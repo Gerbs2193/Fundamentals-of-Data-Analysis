{
 "cells": [
  {
   "cell_type": "markdown",
   "metadata": {},
   "source": [
    "## Task 2\n",
    "\n",
    "> Give an overview of the famous penguins data set, explaining the types of variables it contains. Suggest the types of variables that should be used to model them in python, eplaining your rationale"
   ]
  },
  {
   "cell_type": "markdown",
   "metadata": {},
   "source": [
    "## What is the penguin dataset?\n",
    "\n",
    "> overview\n",
    "\n",
    "\"The Penguin Data set is a dataset for learning from crowd-sourced dot-annotations.\n",
    "it is a collection of images of penguin colonies in Antarctica coming from the larger penguin watch project, which was setup with the purpose of monitoring their changes in population. The images are taken by fixed cameras in over 40 different locations, which have been capturing an image per hour for several years. In order to track the colony sizes, the number of penguins in each of the images in the dataset is required.\" - https://www.robots.ox.ac.uk/~vgg/data/penguins/\n",
    "\n",
    "![](https://miro.medium.com/v2/resize:fit:1400/0*UG26YZBOOrH0jQk3)\n",
    "\n",
    "\n",
    "\n"
   ]
  },
  {
   "cell_type": "markdown",
   "metadata": {},
   "source": [
    "Put in my own words - the dataset contains information from a subset of penguins in Antarctica. It's a snapshot of data collected from a study by Dr. Kristen Gorman and Palmer station Antarctica - thus the ofted referred to as 'Palmer Penguins'. It contains measurements for three different penguin species observed on three islands in the Palmer Archipelago, Antarctica. Specifically, there are 8 variables/columns within it: \n",
    "                                                                        **species**: (Adelie, Gentoo, Chinstrap).\n",
    "                                                                        **island:** The island where the penguins were studied (Torgersen, Biscoe and Dream).\n",
    "                                                                        **bill_length_mm:** The length of the penguin's bill in mm\n",
    "                                                                        **bill_depth_mm:** The depth of the penguin's bill at base in mm.\n",
    "                                                                        **flipper_length_mm:** The length of the penguin's wing in mm.\n",
    "                                                                        **body_mass_g:** Its weight in grams.\n",
    "                                                                        **sex:** \n",
    "                                                                        **year:2007**.\n",
    "\n",
    "This dataset is a great tool to perform data analysis as its quite small in size, offers a diverse amount of variables to visualise, all manner of machine learning possibilities like classification and regresson and mbeyond. Primarily, it offers the opportunity to build upon your foundation for more advanced data science skills. The dataset is commonly used as an alternative to, perhaps, the most commonly used dataset of all time - the Iris dataset. "
   ]
  },
  {
   "cell_type": "markdown",
   "metadata": {},
   "source": [
    "> 8 variables - types\n",
    "\n",
    "As mentioned above, there are 8 variables within this dataset. However, there exists many categories within it. For example, there are categorical variables such as **Species, Island and sex** and then numerical variable like **year, bill length, bill depth, body mass and flipper length**. For this task, I aim to illustrate how all the variables compare to one-another and, more importantly, compare the categorical variables to the numerical ones. This can highlight group differences, Data exploration and visualisation and reporting the data. \n"
   ]
  },
  {
   "cell_type": "code",
   "execution_count": 5,
   "metadata": {},
   "outputs": [
    {
     "name": "stdout",
     "output_type": "stream",
     "text": [
      "   species     island  bill_length_mm  bill_depth_mm  flipper_length_mm  \\\n",
      "0   Adelie  Torgersen            39.1           18.7              181.0   \n",
      "1   Adelie  Torgersen            39.5           17.4              186.0   \n",
      "2   Adelie  Torgersen            40.3           18.0              195.0   \n",
      "3   Adelie  Torgersen             NaN            NaN                NaN   \n",
      "4   Adelie  Torgersen            36.7           19.3              193.0   \n",
      "5   Adelie  Torgersen            39.3           20.6              190.0   \n",
      "6   Adelie  Torgersen            38.9           17.8              181.0   \n",
      "7   Adelie  Torgersen            39.2           19.6              195.0   \n",
      "8   Adelie  Torgersen            34.1           18.1              193.0   \n",
      "9   Adelie  Torgersen            42.0           20.2              190.0   \n",
      "10  Adelie  Torgersen            37.8           17.1              186.0   \n",
      "11  Adelie  Torgersen            37.8           17.3              180.0   \n",
      "12  Adelie  Torgersen            41.1           17.6              182.0   \n",
      "13  Adelie  Torgersen            38.6           21.2              191.0   \n",
      "14  Adelie  Torgersen            34.6           21.1              198.0   \n",
      "15  Adelie  Torgersen            36.6           17.8              185.0   \n",
      "16  Adelie  Torgersen            38.7           19.0              195.0   \n",
      "17  Adelie  Torgersen            42.5           20.7              197.0   \n",
      "18  Adelie  Torgersen            34.4           18.4              184.0   \n",
      "19  Adelie  Torgersen            46.0           21.5              194.0   \n",
      "20  Adelie     Biscoe            37.8           18.3              174.0   \n",
      "21  Adelie     Biscoe            37.7           18.7              180.0   \n",
      "22  Adelie     Biscoe            35.9           19.2              189.0   \n",
      "23  Adelie     Biscoe            38.2           18.1              185.0   \n",
      "24  Adelie     Biscoe            38.8           17.2              180.0   \n",
      "25  Adelie     Biscoe            35.3           18.9              187.0   \n",
      "26  Adelie     Biscoe            40.6           18.6              183.0   \n",
      "27  Adelie     Biscoe            40.5           17.9              187.0   \n",
      "28  Adelie     Biscoe            37.9           18.6              172.0   \n",
      "\n",
      "    body_mass_g     sex  \n",
      "0        3750.0    Male  \n",
      "1        3800.0  Female  \n",
      "2        3250.0  Female  \n",
      "3           NaN     NaN  \n",
      "4        3450.0  Female  \n",
      "5        3650.0    Male  \n",
      "6        3625.0  Female  \n",
      "7        4675.0    Male  \n",
      "8        3475.0     NaN  \n",
      "9        4250.0     NaN  \n",
      "10       3300.0     NaN  \n",
      "11       3700.0     NaN  \n",
      "12       3200.0  Female  \n",
      "13       3800.0    Male  \n",
      "14       4400.0    Male  \n",
      "15       3700.0  Female  \n",
      "16       3450.0  Female  \n",
      "17       4500.0    Male  \n",
      "18       3325.0  Female  \n",
      "19       4200.0    Male  \n",
      "20       3400.0  Female  \n",
      "21       3600.0    Male  \n",
      "22       3800.0  Female  \n",
      "23       3950.0    Male  \n",
      "24       3800.0    Male  \n",
      "25       3800.0  Female  \n",
      "26       3550.0    Male  \n",
      "27       3200.0  Female  \n",
      "28       3150.0  Female  \n"
     ]
    }
   ],
   "source": [
    "import seaborn as sns\n",
    "\n",
    "penguins = sns.load_dataset(\"penguins\")\n",
    "print(penguins.head(29))"
   ]
  },
  {
   "cell_type": "code",
   "execution_count": null,
   "metadata": {},
   "outputs": [],
   "source": []
  },
  {
   "cell_type": "markdown",
   "metadata": {},
   "source": []
  },
  {
   "cell_type": "markdown",
   "metadata": {},
   "source": []
  },
  {
   "cell_type": "markdown",
   "metadata": {},
   "source": [
    "***\n",
    "\n",
    "### End"
   ]
  }
 ],
 "metadata": {
  "kernelspec": {
   "display_name": "Python 3",
   "language": "python",
   "name": "python3"
  },
  "language_info": {
   "codemirror_mode": {
    "name": "ipython",
    "version": 3
   },
   "file_extension": ".py",
   "mimetype": "text/x-python",
   "name": "python",
   "nbconvert_exporter": "python",
   "pygments_lexer": "ipython3",
   "version": "3.11.4"
  },
  "orig_nbformat": 4
 },
 "nbformat": 4,
 "nbformat_minor": 2
}
