{
 "cells": [
  {
   "cell_type": "markdown",
   "metadata": {},
   "source": [
    "## Task 2\n",
    "\n",
    "> Give an overview of the famous penguins data set, explaining the types of variables it contains. Suggest the types of variables that should be used to model them in python, eplaining your rationale"
   ]
  },
  {
   "cell_type": "markdown",
   "metadata": {},
   "source": [
    "## What is the penguin dataset?\n",
    "\n",
    "> overview\n",
    "\n",
    "\"The Penguin Data set is a dataset for learning from crowd-sourced dot-annotations.\n",
    "it is a collection of images of penguin colonies in Antarctica coming from the larger penguin watch project, which was setup with the purpose of monitoring their changes in population. The images are taken by fixed cameras in over 40 different locations, which have been capturing an image per hour for several years. In order to track the colony sizes, the number of penguins in each of the images in the dataset is required.\" - https://www.robots.ox.ac.uk/~vgg/data/penguins/\n",
    "\n",
    "![](https://miro.medium.com/v2/resize:fit:1400/0*UG26YZBOOrH0jQk3)\n",
    "\n",
    "\n",
    "\n"
   ]
  },
  {
   "cell_type": "markdown",
   "metadata": {},
   "source": [
    "Put in my own words - the dataset contains information from a subset of penguins in Antarctica. It's a snapshot of data collected from a study by Dr. Kristen Gorman and Palmer station Antarctica - thus the ofted referred to as 'Palmer Penguins'. It contains measurements for three different penguin species observed on three islands in the Palmer Archipelago, Antarctica. Specifically, there are 8 variables/columns within it: \n",
    "                                                                        **species**: (Adelie, Gentoo, Chinstrap).\n",
    "                                                                        **island:** The island where the penguins were studied (Torgersen, Biscoe and Dream).\n",
    "                                                                        **bill_length_mm:** The length of the penguin's bill in mm\n",
    "                                                                        **bill_depth_mm:** The depth of the penguin's bill at base in mm.\n",
    "                                                                        **flipper_length_mm:** The length of the penguin's wing in mm.\n",
    "                                                                        **body_mass_g:** Its weight in grams.\n",
    "                                                                        **sex:** \n",
    "                                                                        **year:2007**.\n",
    "\n",
    "This dataset is a great tool to perform data analysis as its quite small in size, offers a diverse amount of variables to visualise, all manner of machine learning possibilities like classification and regresson and mbeyond. Primarily, it offers the opportunity to build upon your foundation for more advanced data science skills. The dataset is commonly used as an alternative to, perhaps, the most commonly used dataset of all time - the Iris dataset. "
   ]
  },
  {
   "cell_type": "markdown",
   "metadata": {},
   "source": [
    "> 8 variables - types\n",
    "\n",
    "As mentioned above, there are 8 variables within this dataset. However, there exists many categories within it. For example, there are categorical variables such as **Species, Island and sex** and then numerical variable like **year, bill length, bill depth, body mass and flipper length**. For this task, I aim to illustrate how all the variables compare to one-another and, more importantly, compare the categorical variables to the numerical ones. This can highlight group differences, Data exploration and visualisation and reporting the data. \n"
   ]
  },
  {
   "cell_type": "code",
   "execution_count": 1,
   "metadata": {},
   "outputs": [
    {
     "name": "stdout",
     "output_type": "stream",
     "text": [
      "  species     island  bill_length_mm  bill_depth_mm  flipper_length_mm  \\\n",
      "0  Adelie  Torgersen            39.1           18.7              181.0   \n",
      "1  Adelie  Torgersen            39.5           17.4              186.0   \n",
      "2  Adelie  Torgersen            40.3           18.0              195.0   \n",
      "3  Adelie  Torgersen             NaN            NaN                NaN   \n",
      "4  Adelie  Torgersen            36.7           19.3              193.0   \n",
      "\n",
      "   body_mass_g     sex  year  \n",
      "0       3750.0    male  2007  \n",
      "1       3800.0  female  2007  \n",
      "2       3250.0  female  2007  \n",
      "3          NaN     NaN  2007  \n",
      "4       3450.0  female  2007  \n",
      "       bill_length_mm  bill_depth_mm  flipper_length_mm  body_mass_g  \\\n",
      "count      342.000000     342.000000         342.000000   342.000000   \n",
      "mean        43.921930      17.151170         200.915205  4201.754386   \n",
      "std          5.459584       1.974793          14.061714   801.954536   \n",
      "min         32.100000      13.100000         172.000000  2700.000000   \n",
      "25%         39.225000      15.600000         190.000000  3550.000000   \n",
      "50%         44.450000      17.300000         197.000000  4050.000000   \n",
      "75%         48.500000      18.700000         213.000000  4750.000000   \n",
      "max         59.600000      21.500000         231.000000  6300.000000   \n",
      "\n",
      "              year  \n",
      "count   344.000000  \n",
      "mean   2008.029070  \n",
      "std       0.818356  \n",
      "min    2007.000000  \n",
      "25%    2007.000000  \n",
      "50%    2008.000000  \n",
      "75%    2009.000000  \n",
      "max    2009.000000  \n",
      "species               0\n",
      "island                0\n",
      "bill_length_mm        2\n",
      "bill_depth_mm         2\n",
      "flipper_length_mm     2\n",
      "body_mass_g           2\n",
      "sex                  11\n",
      "year                  0\n",
      "dtype: int64\n"
     ]
    }
   ],
   "source": [
    "import pandas as pd\n",
    "\n",
    "# Define the URL of the CSV file\n",
    "url = \"https://raw.githubusercontent.com/rfordatascience/tidytuesday/master/data/2020/2020-07-28/penguins.csv\"\n",
    "\n",
    "# Read the CSV file from the URL\n",
    "df = pd.read_csv(url)\n",
    "\n",
    "# Explore the dataset\n",
    "print(df.head())  # Display the first few rows\n",
    "print(df.describe())  # Get summary statistics for numeric columns\n",
    "print(df.isnull().sum())"
   ]
  },
  {
   "cell_type": "code",
   "execution_count": null,
   "metadata": {},
   "outputs": [],
   "source": []
  },
  {
   "cell_type": "markdown",
   "metadata": {},
   "source": []
  },
  {
   "cell_type": "markdown",
   "metadata": {},
   "source": []
  },
  {
   "cell_type": "markdown",
   "metadata": {},
   "source": [
    "***\n",
    "\n",
    "### End"
   ]
  }
 ],
 "metadata": {
  "kernelspec": {
   "display_name": "Python 3",
   "language": "python",
   "name": "python3"
  },
  "language_info": {
   "codemirror_mode": {
    "name": "ipython",
    "version": 3
   },
   "file_extension": ".py",
   "mimetype": "text/x-python",
   "name": "python",
   "nbconvert_exporter": "python",
   "pygments_lexer": "ipython3",
   "version": "3.11.4"
  },
  "orig_nbformat": 4
 },
 "nbformat": 4,
 "nbformat_minor": 2
}
