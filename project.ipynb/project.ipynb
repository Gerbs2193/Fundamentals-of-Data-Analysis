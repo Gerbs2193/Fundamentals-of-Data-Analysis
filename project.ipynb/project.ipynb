{
 "cells": [
  {
   "cell_type": "markdown",
   "metadata": {},
   "source": [
    "# Fundamentals-of-Data-Analysis - Project\n",
    "Repository for Fundamentals of Data Analysis module in ATU\n",
    "\n",
    "Readme by Gerard Ball"
   ]
  },
  {
   "cell_type": "markdown",
   "metadata": {},
   "source": [
    "## Project brief\n",
    "\n",
    "+ Create a Jupyter notebook investigating the variables and data points within the well-known iris flower data-set associated with Ronald A Fisher.\n",
    " \n",
    "+ In the notebook, you should discuss the classification of each variable within the data set according to common variable types and scales of measurement in mathematics, statistics and Python. \n",
    "\n",
    "+ Select, demonstrate and explain the most appropriate summary statistics to describe each variable. \n",
    "\n",
    "+ Select, demonstrate and explain the most appropriate plots for each variable\n",
    "\n",
    "+ The notebook should follow a cohesive narrative about the data set."
   ]
  },
  {
   "cell_type": "markdown",
   "metadata": {},
   "source": [
    "## Project objectives\n",
    "\n",
    "**Data Loading plus Exploration:**\n",
    "- Brief outline of the Iris data-set. \n",
    "- Load the dataset into a Jupyter notebook in python with sklearn. From here, explore its characteristics to ensure all is well. \n",
    "\n",
    "\n",
    "\n",
    "**Iris Variable Classification:**\n",
    "- Classify each variable in the Iris dataset. \n",
    "- Identify variable as type categorical or numerical variables etc\n",
    "- Further categorize numerical variables as continuous or discrete.\n",
    "\n",
    "\n",
    "**Scales of Measurement:**\n",
    "- Outline the scales of measurement for each variable and reasoning.\n",
    "\n",
    "**Summary Statistics:**\n",
    "- Complete summary statistics for the dataset.\n",
    " -Display the summary statistics.\n",
    "\n",
    "**Plots for Visualization:**\n",
    "Choose visualisations like plotting for the variables\n",
    "\n",
    "**Explanation and Narrative:**\n",
    "Attempt to construct a clear, concise, cohesive narrative until the end. As such, I hope to make liberal use of markdon explanations throughout to help further explain my logic to the reader. \n",
    "\n",
    "\n",
    "**Conclusion:**\n",
    "Summarize findings and conclude the notebook.\n",
    "\n"
   ]
  },
  {
   "cell_type": "markdown",
   "metadata": {},
   "source": [
    "### Data Loading plus Exploration \n",
    "\n",
    "The Fisher Iris data set; what is it? \n",
    "\n",
    ">\"The Iris flower data set or Fisher's Iris data set is a multivariate data set introduced by the British statistician, eugenicist, and biologist Ronald Fisher in his 1936 paper The use of multiple measurements in taxonomic problems as an example of linear discriminant analysis. It is sometimes called Anderson's Iris data set because Edgar Anderson collected the data to quantify the morphologic variation of Iris flowers of three related species. Two of the three species were collected in the Gaspé Peninsula \"all from the same pasture, and picked on the same day and measured at the same time by the same person with the same apparatus\" - [paperswithcode]https://paperswithcode.com/dataset/iris-1\n",
    "\n",
    "Put simply; The Iris dataset comprises measurements from three different species of iris flowers - namely, Setosa, Versicolor and Virginica. For these three species, the following variables belong: Sepal Length - the length of the flower's outer petal, Sepal Width - the Width of the flower's outer petal, Petal Length - the length of the flower's inner petal and Petal Width - the width of the flower's inner petal. This incredibly popular dataset is used in the world of data anaytics and machine learning as its simple, clear structure, versatility and beginner friendliness makes it an ideal starting point for beginners - such as myself - to see and visualise how key concepts work. Concept like data exploration, visualisation, benchmarking, predictive analysis etc tio name but a few. "
   ]
  },
  {
   "cell_type": "markdown",
   "metadata": {},
   "source": [
    "**In the below code cell, I start by simply loading in the Iris by using sklearn to import it into python. I then make sure to print out all rows of the feature data (measurements of the iris flowers - the species is separate as ) to be sure all is well**"
   ]
  },
  {
   "cell_type": "code",
   "execution_count": 1,
   "metadata": {},
   "outputs": [
    {
     "name": "stdout",
     "output_type": "stream",
     "text": [
      "Feature Data (All rows):\n",
      " [[5.1 3.5 1.4 0.2]\n",
      " [4.9 3.  1.4 0.2]\n",
      " [4.7 3.2 1.3 0.2]\n",
      " [4.6 3.1 1.5 0.2]\n",
      " [5.  3.6 1.4 0.2]\n",
      " [5.4 3.9 1.7 0.4]\n",
      " [4.6 3.4 1.4 0.3]\n",
      " [5.  3.4 1.5 0.2]\n",
      " [4.4 2.9 1.4 0.2]\n",
      " [4.9 3.1 1.5 0.1]\n",
      " [5.4 3.7 1.5 0.2]\n",
      " [4.8 3.4 1.6 0.2]\n",
      " [4.8 3.  1.4 0.1]\n",
      " [4.3 3.  1.1 0.1]\n",
      " [5.8 4.  1.2 0.2]\n",
      " [5.7 4.4 1.5 0.4]\n",
      " [5.4 3.9 1.3 0.4]\n",
      " [5.1 3.5 1.4 0.3]\n",
      " [5.7 3.8 1.7 0.3]\n",
      " [5.1 3.8 1.5 0.3]\n",
      " [5.4 3.4 1.7 0.2]\n",
      " [5.1 3.7 1.5 0.4]\n",
      " [4.6 3.6 1.  0.2]\n",
      " [5.1 3.3 1.7 0.5]\n",
      " [4.8 3.4 1.9 0.2]\n",
      " [5.  3.  1.6 0.2]\n",
      " [5.  3.4 1.6 0.4]\n",
      " [5.2 3.5 1.5 0.2]\n",
      " [5.2 3.4 1.4 0.2]\n",
      " [4.7 3.2 1.6 0.2]\n",
      " [4.8 3.1 1.6 0.2]\n",
      " [5.4 3.4 1.5 0.4]\n",
      " [5.2 4.1 1.5 0.1]\n",
      " [5.5 4.2 1.4 0.2]\n",
      " [4.9 3.1 1.5 0.2]\n",
      " [5.  3.2 1.2 0.2]\n",
      " [5.5 3.5 1.3 0.2]\n",
      " [4.9 3.6 1.4 0.1]\n",
      " [4.4 3.  1.3 0.2]\n",
      " [5.1 3.4 1.5 0.2]\n",
      " [5.  3.5 1.3 0.3]\n",
      " [4.5 2.3 1.3 0.3]\n",
      " [4.4 3.2 1.3 0.2]\n",
      " [5.  3.5 1.6 0.6]\n",
      " [5.1 3.8 1.9 0.4]\n",
      " [4.8 3.  1.4 0.3]\n",
      " [5.1 3.8 1.6 0.2]\n",
      " [4.6 3.2 1.4 0.2]\n",
      " [5.3 3.7 1.5 0.2]\n",
      " [5.  3.3 1.4 0.2]\n",
      " [7.  3.2 4.7 1.4]\n",
      " [6.4 3.2 4.5 1.5]\n",
      " [6.9 3.1 4.9 1.5]\n",
      " [5.5 2.3 4.  1.3]\n",
      " [6.5 2.8 4.6 1.5]\n",
      " [5.7 2.8 4.5 1.3]\n",
      " [6.3 3.3 4.7 1.6]\n",
      " [4.9 2.4 3.3 1. ]\n",
      " [6.6 2.9 4.6 1.3]\n",
      " [5.2 2.7 3.9 1.4]\n",
      " [5.  2.  3.5 1. ]\n",
      " [5.9 3.  4.2 1.5]\n",
      " [6.  2.2 4.  1. ]\n",
      " [6.1 2.9 4.7 1.4]\n",
      " [5.6 2.9 3.6 1.3]\n",
      " [6.7 3.1 4.4 1.4]\n",
      " [5.6 3.  4.5 1.5]\n",
      " [5.8 2.7 4.1 1. ]\n",
      " [6.2 2.2 4.5 1.5]\n",
      " [5.6 2.5 3.9 1.1]\n",
      " [5.9 3.2 4.8 1.8]\n",
      " [6.1 2.8 4.  1.3]\n",
      " [6.3 2.5 4.9 1.5]\n",
      " [6.1 2.8 4.7 1.2]\n",
      " [6.4 2.9 4.3 1.3]\n",
      " [6.6 3.  4.4 1.4]\n",
      " [6.8 2.8 4.8 1.4]\n",
      " [6.7 3.  5.  1.7]\n",
      " [6.  2.9 4.5 1.5]\n",
      " [5.7 2.6 3.5 1. ]\n",
      " [5.5 2.4 3.8 1.1]\n",
      " [5.5 2.4 3.7 1. ]\n",
      " [5.8 2.7 3.9 1.2]\n",
      " [6.  2.7 5.1 1.6]\n",
      " [5.4 3.  4.5 1.5]\n",
      " [6.  3.4 4.5 1.6]\n",
      " [6.7 3.1 4.7 1.5]\n",
      " [6.3 2.3 4.4 1.3]\n",
      " [5.6 3.  4.1 1.3]\n",
      " [5.5 2.5 4.  1.3]\n",
      " [5.5 2.6 4.4 1.2]\n",
      " [6.1 3.  4.6 1.4]\n",
      " [5.8 2.6 4.  1.2]\n",
      " [5.  2.3 3.3 1. ]\n",
      " [5.6 2.7 4.2 1.3]\n",
      " [5.7 3.  4.2 1.2]\n",
      " [5.7 2.9 4.2 1.3]\n",
      " [6.2 2.9 4.3 1.3]\n",
      " [5.1 2.5 3.  1.1]\n",
      " [5.7 2.8 4.1 1.3]\n",
      " [6.3 3.3 6.  2.5]\n",
      " [5.8 2.7 5.1 1.9]\n",
      " [7.1 3.  5.9 2.1]\n",
      " [6.3 2.9 5.6 1.8]\n",
      " [6.5 3.  5.8 2.2]\n",
      " [7.6 3.  6.6 2.1]\n",
      " [4.9 2.5 4.5 1.7]\n",
      " [7.3 2.9 6.3 1.8]\n",
      " [6.7 2.5 5.8 1.8]\n",
      " [7.2 3.6 6.1 2.5]\n",
      " [6.5 3.2 5.1 2. ]\n",
      " [6.4 2.7 5.3 1.9]\n",
      " [6.8 3.  5.5 2.1]\n",
      " [5.7 2.5 5.  2. ]\n",
      " [5.8 2.8 5.1 2.4]\n",
      " [6.4 3.2 5.3 2.3]\n",
      " [6.5 3.  5.5 1.8]\n",
      " [7.7 3.8 6.7 2.2]\n",
      " [7.7 2.6 6.9 2.3]\n",
      " [6.  2.2 5.  1.5]\n",
      " [6.9 3.2 5.7 2.3]\n",
      " [5.6 2.8 4.9 2. ]\n",
      " [7.7 2.8 6.7 2. ]\n",
      " [6.3 2.7 4.9 1.8]\n",
      " [6.7 3.3 5.7 2.1]\n",
      " [7.2 3.2 6.  1.8]\n",
      " [6.2 2.8 4.8 1.8]\n",
      " [6.1 3.  4.9 1.8]\n",
      " [6.4 2.8 5.6 2.1]\n",
      " [7.2 3.  5.8 1.6]\n",
      " [7.4 2.8 6.1 1.9]\n",
      " [7.9 3.8 6.4 2. ]\n",
      " [6.4 2.8 5.6 2.2]\n",
      " [6.3 2.8 5.1 1.5]\n",
      " [6.1 2.6 5.6 1.4]\n",
      " [7.7 3.  6.1 2.3]\n",
      " [6.3 3.4 5.6 2.4]\n",
      " [6.4 3.1 5.5 1.8]\n",
      " [6.  3.  4.8 1.8]\n",
      " [6.9 3.1 5.4 2.1]\n",
      " [6.7 3.1 5.6 2.4]\n",
      " [6.9 3.1 5.1 2.3]\n",
      " [5.8 2.7 5.1 1.9]\n",
      " [6.8 3.2 5.9 2.3]\n",
      " [6.7 3.3 5.7 2.5]\n",
      " [6.7 3.  5.2 2.3]\n",
      " [6.3 2.5 5.  1.9]\n",
      " [6.5 3.  5.2 2. ]\n",
      " [6.2 3.4 5.4 2.3]\n",
      " [5.9 3.  5.1 1.8]]\n"
     ]
    }
   ],
   "source": [
    "# Needed scikit-learn library to import the data set. Handy \n",
    "from sklearn import datasets\n",
    "\n",
    "\n",
    "iris = datasets.load_iris()\n",
    "\n",
    "print(\"Feature Data (All rows):\\n\", iris.data)"
   ]
  },
  {
   "cell_type": "markdown",
   "metadata": {},
   "source": [
    "### Iris Data-set Variable Classifications\n",
    "\n",
    "1 - **Species** (Iris Setosa, Iris Virginica and Iris Versicolor) - Categorical - Nominal. The species is classified as categorical as it represents different categories in the name of the three species and nominal as the categories don't have any inherent order or ranking \n",
    "\n",
    "2 - **Sepal Length, Sepal Width, Petal Length and Petal Width** - Numerical - Continuous. These variables are numerical as they are quantitative, numerical in nature. They're continuous bacause they are all values within a given range. "
   ]
  },
  {
   "cell_type": "markdown",
   "metadata": {},
   "source": [
    "### Scales of Measurement\n",
    "\n",
    "1 - **Species** - Nominal. The species variable is a nominal scale of measurement as it represents distinct categories and is not quantitative. \n",
    "2 - **Sepal Length, Sepal Width, Petal Length and Petal Width** - Ratio. The other variables aka the feature data of the Iris would be deemed a ratio scale of measurement. This is so as they all a zero point and can be compared using ratios thus the scale of measurement ratio. They also have a natural order and equal intervals. Put simply - as I am quite simple indeed - the feature data is considered a ratio scale of measurement becasue:\n",
    "\n",
    " - It contains a 'true' zero. In this case, this means that zero represents nothing as is true for the feature data as 0 Sepal Length means no Sepal Length. As pointed out by my professor Ian - this is deparate and quite different from a relative zero such as, for example - 0 degrees Celcius. This is a relative 0 as it means the temperature is that of the freezing point of water rather that representing that 0 celcius mrepresents 0 heat, which is not the case. \n",
    "\n",
    " - Has a natural order. This simply means that the values can be arranged, say, smallest to largest etc. The iris data-set has a natural order as the length and width of the petals are able to be measured and compared to deduce one is smaller and thus falls behind a larger variable etc. \n",
    "\n",
    " - They all possess equal interval characteristics. This means that any of the two values on a scale are the same. For the iris, the difference between 5 and 7cm of one variable is the same as 2 and 4 on another. \n",
    "\n",
    " \n",
    "\n",
    "\n",
    "\n",
    "\n",
    "\n",
    "\n",
    "[Scales of Measurement](https://www.scribbr.com/statistics/levels-of-measurement/)"
   ]
  },
  {
   "cell_type": "markdown",
   "metadata": {},
   "source": [
    "## Summary Statistics\n",
    "\n",
    "1 - **Species** Seeing as species is a categorical variable, opting for the count of each class within it is worthwhile to better understand the data. In this case, there are 50 of each of the three flowers, as will be shown below in the following code cell. \n",
    "\n",
    "2 - **Sepal Length, Sepal Width, Petal Length and Petal Width** For these, I started by merely using the overall summary statistics, rathe rthan the species specific versions. I chose this path to get an overall view and understanding of the dataswt and where it generally distributed. Following this, however, I also completed the species specifif versions to get a deeper understanding. \n",
    "\n",
    " Given that these variables are all numerical, it's best to highlight quantitative findings like central tendency (by way of mean), standard deviation, quartiles and min max values. The mean is useful as it, as mentioned, helps show the central tendency of the data by averaging a value. The standard deviation shows variability, quartiles show distribution and the min and max values show the range of measurements. The above was used as justification to code the results, as shown below. \n",
    "\n",
    "\n"
   ]
  },
  {
   "cell_type": "code",
   "execution_count": 8,
   "metadata": {},
   "outputs": [
    {
     "name": "stdout",
     "output_type": "stream",
     "text": [
      "Species Counts:\n",
      "setosa        50\n",
      "versicolor    50\n",
      "virginica     50\n",
      "Name: Species, dtype: int64\n"
     ]
    }
   ],
   "source": [
    "import pandas as pd\n",
    "from sklearn.datasets import load_iris\n",
    "iris = load_iris()\n",
    "data = pd.DataFrame(iris.data, columns=iris.feature_names)\n",
    "data['Species'] = iris.target_names[iris.target]\n",
    "\n",
    "\n",
    "species_counts = data['Species'].value_counts()\n",
    "\n",
    "print(\"Species Counts:\")\n",
    "print(species_counts)"
   ]
  },
  {
   "cell_type": "code",
   "execution_count": 9,
   "metadata": {},
   "outputs": [
    {
     "name": "stdout",
     "output_type": "stream",
     "text": [
      "\n",
      "Numerical Variables Summary:\n",
      "      sepal length (cm)  sepal width (cm)  petal length (cm)  petal width (cm)\n",
      "mean           5.843333          3.057333           3.758000          1.199333\n",
      "std            0.828066          0.435866           1.765298          0.762238\n",
      "min            4.300000          2.000000           1.000000          0.100000\n",
      "25%            5.100000          2.800000           1.600000          0.300000\n",
      "50%            5.800000          3.000000           4.350000          1.300000\n",
      "75%            6.400000          3.300000           5.100000          1.800000\n",
      "max            7.900000          4.400000           6.900000          2.500000\n"
     ]
    }
   ],
   "source": [
    "# Summary stats for num vars\n",
    "numerical_summary = data.describe().loc[['mean', 'std', 'min', '25%', '50%', '75%', 'max']]\n",
    "\n",
    "print(\"\\nNumerical Variables Summary:\")\n",
    "print(numerical_summary)"
   ]
  },
  {
   "cell_type": "code",
   "execution_count": 11,
   "metadata": {},
   "outputs": [
    {
     "name": "stdout",
     "output_type": "stream",
     "text": [
      "\n",
      "Numerical Variables Summary by Species:\n",
      "                                25%   50%    75%  count  max   mean  min  \\\n",
      "Species                                                                    \n",
      "setosa     petal length (cm)  1.400  1.50  1.575   50.0  1.9  1.462  1.0   \n",
      "           petal width (cm)   0.200  0.20  0.300   50.0  0.6  0.246  0.1   \n",
      "           sepal length (cm)  4.800  5.00  5.200   50.0  5.8  5.006  4.3   \n",
      "           sepal width (cm)   3.200  3.40  3.675   50.0  4.4  3.428  2.3   \n",
      "versicolor petal length (cm)  4.000  4.35  4.600   50.0  5.1  4.260  3.0   \n",
      "           petal width (cm)   1.200  1.30  1.500   50.0  1.8  1.326  1.0   \n",
      "           sepal length (cm)  5.600  5.90  6.300   50.0  7.0  5.936  4.9   \n",
      "           sepal width (cm)   2.525  2.80  3.000   50.0  3.4  2.770  2.0   \n",
      "virginica  petal length (cm)  5.100  5.55  5.875   50.0  6.9  5.552  4.5   \n",
      "           petal width (cm)   1.800  2.00  2.300   50.0  2.5  2.026  1.4   \n",
      "           sepal length (cm)  6.225  6.50  6.900   50.0  7.9  6.588  4.9   \n",
      "           sepal width (cm)   2.800  3.00  3.175   50.0  3.8  2.974  2.2   \n",
      "\n",
      "                                   std  \n",
      "Species                                 \n",
      "setosa     petal length (cm)  0.173664  \n",
      "           petal width (cm)   0.105386  \n",
      "           sepal length (cm)  0.352490  \n",
      "           sepal width (cm)   0.379064  \n",
      "versicolor petal length (cm)  0.469911  \n",
      "           petal width (cm)   0.197753  \n",
      "           sepal length (cm)  0.516171  \n",
      "           sepal width (cm)   0.313798  \n",
      "virginica  petal length (cm)  0.551895  \n",
      "           petal width (cm)   0.274650  \n",
      "           sepal length (cm)  0.635880  \n",
      "           sepal width (cm)   0.322497  \n"
     ]
    }
   ],
   "source": [
    "import pandas as pd\n",
    "from sklearn.datasets import load_iris\n",
    "\n",
    "# Load the Iris dataset from scikit-learn\n",
    "iris = load_iris()\n",
    "\n",
    "# Create a DataFrame from the data\n",
    "data = pd.DataFrame(data=iris.data, columns=iris.feature_names)\n",
    "data['Species'] = iris.target_names[iris.target]\n",
    "\n",
    "# Group by 'Species' and calculate summary statistics\n",
    "grouped_summary = data.groupby('Species').describe().stack(level=0)\n",
    "\n",
    "# Display the numerical variables summary by species\n",
    "print(\"\\nNumerical Variables Summary by Species:\")\n",
    "print(grouped_summary)"
   ]
  },
  {
   "cell_type": "markdown",
   "metadata": {},
   "source": [
    "General observations of the default numerical variable summary stats prior to var visualisations\n",
    "so \n",
    " - **Sepal Length** Mean is 5.84 cm or so. The range goes from 4.3 to 7.9, approximately with a standard deviatipon of 0.82 or so. The distribution, as shown by the quartiles, is somewhat symmetrical with a median of 5.8cm which is fairly close to its mean of 5.84. I calculated the median by deducing that the 50th quartile = 50th percentile, which is the median. This is further proven as the maajority os Sepal Length falls between 5.1cm and 6.4 (25th and 75th percentile)\n",
    "\n",
    " - **Sepal Width** Mean is 3.06 cm rounded. Range goes from 2 - 4.4cm, which is notably less than Sepal Length. This shows it is standard dev of 0.43cm, approximately half the variability. The distribution here is, like Sepal Length, somewhat of a symmetrical distribution as shown by its mean value of 3.05cm being only slightly greater than its median value of 3cm. \n",
    "\n",
    " **Petal Length** Mean is approx 3.76 cm. Higest standard deviation of all variables at a rounded 1.77cm. This shows with a relatively huge range of 1-6.9cm, the largest range of all the vars, naturally. The distribution here is left skewed as shown by a median of 4.35, much higher than its mean of 3.75. \n",
    "\n",
    " **Petal Width** Mean is 1.20cm rounded. Second lowest variability as shwon by a standard dev of just 0.76cm. The range goes from 0.1-2.5cm. Like Petal Length, the distribution is left skewed as shown by its median of 1.3cm, being noticeably greater than that of its mean of 1.20cm. \n",
    "\n",
    "\n",
    "**Species specific summary stats**\n",
    "\n",
    "**Setosa** Petal Length and Width of Setosa, generally, are smaller than the other species - highlighted by a mean of Petal Length of just 1.462cm and just 0.246 in terms of petal width. This observation continues regarding Sepal Length but not always for Width. Sepal Length for setosa has shorter lenths and widths as shown with a mean of 5.0006cm, however with a mean of 3.428 for Sepal Width it has the highest mean value. This is interesting in the sense that this species specific variable has both the smallest Petal Length and Width along with hte smallest Sepal length out of all the species flowers yet also hes the largest man petal width. Should make for interesting plotting visualisations. \n",
    "\n",
    "**Versicolour** Generally, this flower seems to be in the middle, in terms of its mean measurements. With Petal Length mean of 4.260cm and a mean Petal Width of 1.325 - it sits above its Setosa counterpart, but below Virginica. Same is mostly true for Sepal Length and Width. With a mean Sepal Length of 5.936cm and a Sepal Width mean of 2.770cm, it sits between the other species except for Sepal Width which is the smallest of the three for Versicolour. \n",
    "\n",
    "**Virginica** Generally, Versicolor is the largest flower, as shown by its mean lengths and widths being the largest other than its Sepal Width. Its Petal Length and Width means of 5.552cm and 2.770cm are the largest in its class. Its Sepal Length mean of 6.558 is also the largest of the classes whereas its Sepal Width mean of 2.974cm is greater than its Versicolour counterpart but less than Setosa. \n",
    "\n",
    "\n",
    "\n"
   ]
  },
  {
   "cell_type": "markdown",
   "metadata": {},
   "source": [
    "**Variable plot visualisations, comparisons and justifications**\n",
    "\n",
    "**Species**  Considering \n",
    "\n"
   ]
  },
  {
   "cell_type": "code",
   "execution_count": 12,
   "metadata": {},
   "outputs": [
    {
     "data": {
      "image/png": "[encoded data removed]",
      "text/plain": [
       "<Figure size 800x600 with 1 Axes>"
      ]
     },
     "metadata": {},
     "output_type": "display_data"
    }
   ],
   "source": [
    "import matplotlib.pyplot as plt\n",
    "import seaborn as sns\n",
    "from sklearn.datasets import load_iris\n",
    "import pandas as pd\n",
    "iris = load_iris()\n",
    "iris_df = pd.DataFrame(data=iris.data, columns=iris.feature_names)\n",
    "iris_df['species'] = iris.target_names[iris.target]\n",
    "\n",
    "# stacked bar plotting\n",
    "plt.figure(figsize=(8, 6))\n",
    "sns.countplot(data=iris_df, x='species', palette='viridis')\n",
    "\n",
    "plt.title('Distribution of Iris Species')\n",
    "plt.xlabel('Species')\n",
    "plt.ylabel('Count')\n",
    "plt.show()"
   ]
  }
 ],
 "metadata": {
  "kernelspec": {
   "display_name": "Python 3",
   "language": "python",
   "name": "python3"
  },
  "language_info": {
   "codemirror_mode": {
    "name": "ipython",
    "version": 3
   },
   "file_extension": ".py",
   "mimetype": "text/x-python",
   "name": "python",
   "nbconvert_exporter": "python",
   "pygments_lexer": "ipython3",
   "version": "3.11.4"
  },
  "orig_nbformat": 4
 },
 "nbformat": 4,
 "nbformat_minor": 2
}
